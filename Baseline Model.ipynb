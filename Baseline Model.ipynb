{
 "cells": [
  {
   "cell_type": "markdown",
   "metadata": {},
   "source": [
    "<h1>Fashion MNIST</h1>"
   ]
  },
  {
   "cell_type": "markdown",
   "metadata": {},
   "source": [
    "<h2>Setting Up Libraries</h2>"
   ]
  },
  {
   "cell_type": "code",
   "execution_count": 1,
   "metadata": {},
   "outputs": [],
   "source": [
    "import numpy as np \n",
    "import pandas as pd\n",
    "import seaborn as sns\n",
    "import matplotlib.pyplot as plt\n",
    "%matplotlib inline"
   ]
  },
  {
   "cell_type": "code",
   "execution_count": 129,
   "metadata": {},
   "outputs": [],
   "source": [
    "from tensorflow.keras.datasets import fashion_mnist\n",
    "(X_train, y_train), (X_test, y_test) = fashion_mnist.load_data()"
   ]
  },
  {
   "cell_type": "code",
   "execution_count": 130,
   "metadata": {},
   "outputs": [
    {
     "name": "stdout",
     "output_type": "stream",
     "text": [
      "Training data: (60000, 28, 28) (60000,)\n",
      "Test data: (10000, 28, 28) (10000,)\n"
     ]
    }
   ],
   "source": [
    "print('Training data:', X_train.shape, y_train.shape)\n",
    "print('Test data:', X_test.shape, y_test.shape)"
   ]
  },
  {
   "cell_type": "markdown",
   "metadata": {},
   "source": [
    "## Baseline Models"
   ]
  },
  {
   "cell_type": "code",
   "execution_count": 29,
   "metadata": {},
   "outputs": [
    {
     "data": {
      "text/plain": [
       "(10000, 784)"
      ]
     },
     "execution_count": 29,
     "metadata": {},
     "output_type": "execute_result"
    }
   ],
   "source": [
    "X = X_train.copy()\n",
    "y = y_train.copy()\n",
    "\n",
    "X_val = X_test.copy()\n",
    "X_val = X_val.reshape(X_val.shape[0], X_val.shape[1] * X_val.shape[2])\n",
    "X_val.shape"
   ]
  },
  {
   "cell_type": "code",
   "execution_count": 30,
   "metadata": {},
   "outputs": [
    {
     "data": {
      "text/plain": [
       "(60000, 784)"
      ]
     },
     "execution_count": 30,
     "metadata": {},
     "output_type": "execute_result"
    }
   ],
   "source": [
    "X = X.reshape(X.shape[0], X.shape[1] * X.shape[2])\n",
    "X.shape"
   ]
  },
  {
   "cell_type": "markdown",
   "metadata": {},
   "source": [
    "<h3> Logistic Regression </h3>"
   ]
  },
  {
   "cell_type": "code",
   "execution_count": 6,
   "metadata": {},
   "outputs": [],
   "source": [
    "from sklearn.linear_model import LogisticRegression\n",
    "from sklearn.metrics import accuracy_score"
   ]
  },
  {
   "cell_type": "code",
   "execution_count": 9,
   "metadata": {},
   "outputs": [
    {
     "name": "stdout",
     "output_type": "stream",
     "text": [
      "0.8363\n"
     ]
    },
    {
     "name": "stderr",
     "output_type": "stream",
     "text": [
      "C:\\Users\\PC\\miniconda3\\envs\\cs_ftmle\\lib\\site-packages\\sklearn\\linear_model\\_logistic.py:764: ConvergenceWarning: lbfgs failed to converge (status=1):\n",
      "STOP: TOTAL NO. of ITERATIONS REACHED LIMIT.\n",
      "\n",
      "Increase the number of iterations (max_iter) or scale the data as shown in:\n",
      "    https://scikit-learn.org/stable/modules/preprocessing.html\n",
      "Please also refer to the documentation for alternative solver options:\n",
      "    https://scikit-learn.org/stable/modules/linear_model.html#logistic-regression\n",
      "  extra_warning_msg=_LOGISTIC_SOLVER_CONVERGENCE_MSG)\n"
     ]
    }
   ],
   "source": [
    "lgr = LogisticRegression(max_iter = 800)\n",
    "lgr.fit(X, y)\n",
    "prediction = lgr.predict(X_val)\n",
    "print(accuracy_score(prediction, y_test))"
   ]
  },
  {
   "cell_type": "markdown",
   "metadata": {},
   "source": [
    "<h3> Random Forest Classifier </h3>"
   ]
  },
  {
   "cell_type": "code",
   "execution_count": 7,
   "metadata": {},
   "outputs": [],
   "source": [
    "from sklearn.ensemble import RandomForestClassifier\n",
    "from sklearn.model_selection import cross_val_score"
   ]
  },
  {
   "cell_type": "code",
   "execution_count": 208,
   "metadata": {},
   "outputs": [
    {
     "name": "stdout",
     "output_type": "stream",
     "text": [
      "[0.851 0.836 0.85  0.85  0.841]\n"
     ]
    }
   ],
   "source": [
    "forest = RandomForestClassifier()\n",
    "forest.fit(X, y)\n",
    "scores = cross_val_score(forest, X_val, y_test, cv = 5)\n",
    "print(scores)"
   ]
  },
  {
   "cell_type": "markdown",
   "metadata": {},
   "source": [
    "<p> Looks promising </p>"
   ]
  },
  {
   "cell_type": "markdown",
   "metadata": {},
   "source": [
    "<h3> Naive Bayes </h3>"
   ]
  },
  {
   "cell_type": "code",
   "execution_count": 67,
   "metadata": {},
   "outputs": [
    {
     "name": "stdout",
     "output_type": "stream",
     "text": [
      "0.5856\n"
     ]
    }
   ],
   "source": [
    "from sklearn.naive_bayes import GaussianNB\n",
    "\n",
    "naive = GaussianNB()\n",
    "naive.fit(X, y)\n",
    "prediction = naive.predict(X_val)\n",
    "print(accuracy_score(prediction, y_test))"
   ]
  },
  {
   "cell_type": "markdown",
   "metadata": {},
   "source": [
    "<p> Probably not... </p>"
   ]
  },
  {
   "cell_type": "markdown",
   "metadata": {},
   "source": [
    "<h3> Light Gradient Boosting Machine</h3>"
   ]
  },
  {
   "cell_type": "code",
   "execution_count": 27,
   "metadata": {
    "collapsed": true,
    "jupyter": {
     "outputs_hidden": true
    }
   },
   "outputs": [
    {
     "name": "stdout",
     "output_type": "stream",
     "text": [
      "Collecting lightgbm\n",
      "  Downloading lightgbm-3.0.0-py2.py3-none-win_amd64.whl (737 kB)\n",
      "Requirement already satisfied: scipy in c:\\users\\pc\\miniconda3\\envs\\cs_ftmle\\lib\\site-packages (from lightgbm) (1.4.1)\n",
      "Requirement already satisfied: scikit-learn!=0.22.0 in c:\\users\\pc\\miniconda3\\envs\\cs_ftmle\\lib\\site-packages (from lightgbm) (0.23.2)\n",
      "Requirement already satisfied: numpy in c:\\users\\pc\\miniconda3\\envs\\cs_ftmle\\lib\\site-packages (from lightgbm) (1.18.5)\n",
      "Requirement already satisfied: threadpoolctl>=2.0.0 in c:\\users\\pc\\miniconda3\\envs\\cs_ftmle\\lib\\site-packages (from scikit-learn!=0.22.0->lightgbm) (2.1.0)\n",
      "Requirement already satisfied: joblib>=0.11 in c:\\users\\pc\\miniconda3\\envs\\cs_ftmle\\lib\\site-packages (from scikit-learn!=0.22.0->lightgbm) (0.16.0)\n",
      "Installing collected packages: lightgbm\n",
      "Successfully installed lightgbm-3.0.0\n",
      "Note: you may need to restart the kernel to use updated packages.\n"
     ]
    }
   ],
   "source": [
    "pip install lightgbm"
   ]
  },
  {
   "cell_type": "code",
   "execution_count": 35,
   "metadata": {},
   "outputs": [
    {
     "name": "stdout",
     "output_type": "stream",
     "text": [
      "0.8941\n"
     ]
    }
   ],
   "source": [
    "import lightgbm as lgb\n",
    "\n",
    "lgb = lgb.LGBMClassifier()\n",
    "lgb.fit(X, y)\n",
    "prediction = lgb.predict(X_val)\n",
    "print(accuracy_score(y_test, prediction))"
   ]
  },
  {
   "cell_type": "markdown",
   "metadata": {},
   "source": [
    "<h2> Pipeline </h2>"
   ]
  },
  {
   "cell_type": "code",
   "execution_count": 8,
   "metadata": {},
   "outputs": [],
   "source": [
    "from sklearn.base import BaseEstimator, TransformerMixin\n",
    "from sklearn.pipeline import Pipeline\n",
    "\n",
    "class preparation(BaseEstimator, TransformerMixin):\n",
    "    def __init__(self):\n",
    "        pass\n",
    "    def fit(self, X, y = None):\n",
    "        return self\n",
    "    def transform(self, X):\n",
    "        X = X.reshape(X.shape[0], X.shape[1] * X.shape[2]) / 255\n",
    "        return X"
   ]
  },
  {
   "cell_type": "markdown",
   "metadata": {},
   "source": [
    "<h3> Let's try PCA </h3>"
   ]
  },
  {
   "cell_type": "code",
   "execution_count": 9,
   "metadata": {},
   "outputs": [],
   "source": [
    "from sklearn.decomposition import PCA"
   ]
  },
  {
   "cell_type": "code",
   "execution_count": 54,
   "metadata": {},
   "outputs": [],
   "source": [
    "clf = Pipeline([('preparation', preparation()),\n",
    "                ('pca', PCA(n_components = 300)),\n",
    "               ('forest', RandomForestClassifier())])"
   ]
  },
  {
   "cell_type": "code",
   "execution_count": 44,
   "metadata": {},
   "outputs": [
    {
     "name": "stdout",
     "output_type": "stream",
     "text": [
      "0.8518\n"
     ]
    }
   ],
   "source": [
    "prediction = pipeline.predict(X_test)\n",
    "print(accuracy_score(prediction, y_test))"
   ]
  },
  {
   "cell_type": "markdown",
   "metadata": {},
   "source": [
    "<h2>Fine Tuning</h2>"
   ]
  },
  {
   "cell_type": "code",
   "execution_count": 10,
   "metadata": {},
   "outputs": [],
   "source": [
    "def plot_images(images, labels):\n",
    "    plt.figure(figsize=(20, 10))\n",
    "    columns = 10\n",
    "    for i, image in enumerate(images):\n",
    "        ax = plt.subplot(len(images) / columns + 1, columns, i + 1)\n",
    "        ax.set_title(f\"{labels[i]}\", fontsize=16)\n",
    "        plt.axis('off')\n",
    "        plt.subplots_adjust(bottom=0.1)\n",
    "        plt.imshow(image, cmap='gray')"
   ]
  },
  {
   "cell_type": "code",
   "execution_count": 11,
   "metadata": {},
   "outputs": [],
   "source": [
    "from sklearn.model_selection import RandomizedSearchCV\n",
    "import random"
   ]
  },
  {
   "cell_type": "markdown",
   "metadata": {},
   "source": [
    "<h3> Logistic Regression </h3>"
   ]
  },
  {
   "cell_type": "code",
   "execution_count": 10,
   "metadata": {},
   "outputs": [],
   "source": [
    "log = Pipeline([('preparation', preparation()),\n",
    "                ('pca', PCA(n_components = 300)),\n",
    "               ('log', LogisticRegression(max_iter = 700))])"
   ]
  },
  {
   "cell_type": "code",
   "execution_count": 11,
   "metadata": {
    "collapsed": true,
    "jupyter": {
     "outputs_hidden": true
    }
   },
   "outputs": [
    {
     "name": "stderr",
     "output_type": "stream",
     "text": [
      "C:\\Users\\PC\\miniconda3\\envs\\cs_ftmle\\lib\\site-packages\\sklearn\\model_selection\\_search.py:282: UserWarning: The total space of parameters 12 is smaller than n_iter=30. Running 12 iterations. For exhaustive searches, use GridSearchCV.\n",
      "  % (grid_size, self.n_iter, grid_size), UserWarning)\n",
      "[Parallel(n_jobs=-1)]: Using backend LokyBackend with 12 concurrent workers.\n"
     ]
    },
    {
     "name": "stdout",
     "output_type": "stream",
     "text": [
      "Fitting 5 folds for each of 12 candidates, totalling 60 fits\n"
     ]
    },
    {
     "name": "stderr",
     "output_type": "stream",
     "text": [
      "[Parallel(n_jobs=-1)]: Done   1 tasks      | elapsed:  3.1min\n",
      "[Parallel(n_jobs=-1)]: Done   8 tasks      | elapsed:  8.1min\n",
      "[Parallel(n_jobs=-1)]: Done  17 tasks      | elapsed: 16.4min\n",
      "[Parallel(n_jobs=-1)]: Done  26 tasks      | elapsed: 20.5min\n",
      "[Parallel(n_jobs=-1)]: Done  37 tasks      | elapsed: 30.2min\n",
      "[Parallel(n_jobs=-1)]: Done  44 out of  60 | elapsed: 34.3min remaining: 12.5min\n",
      "[Parallel(n_jobs=-1)]: Done  51 out of  60 | elapsed: 42.0min remaining:  7.4min\n",
      "[Parallel(n_jobs=-1)]: Done  58 out of  60 | elapsed: 51.3min remaining:  1.8min\n",
      "[Parallel(n_jobs=-1)]: Done  60 out of  60 | elapsed: 51.8min finished\n",
      "C:\\Users\\PC\\miniconda3\\envs\\cs_ftmle\\lib\\site-packages\\sklearn\\linear_model\\_logistic.py:764: ConvergenceWarning: lbfgs failed to converge (status=1):\n",
      "STOP: TOTAL NO. of ITERATIONS REACHED LIMIT.\n",
      "\n",
      "Increase the number of iterations (max_iter) or scale the data as shown in:\n",
      "    https://scikit-learn.org/stable/modules/preprocessing.html\n",
      "Please also refer to the documentation for alternative solver options:\n",
      "    https://scikit-learn.org/stable/modules/linear_model.html#logistic-regression\n",
      "  extra_warning_msg=_LOGISTIC_SOLVER_CONVERGENCE_MSG)\n"
     ]
    },
    {
     "data": {
      "text/plain": [
       "RandomizedSearchCV(estimator=Pipeline(steps=[('preparation', preparation()),\n",
       "                                             ('pca', PCA(n_components=300)),\n",
       "                                             ('log',\n",
       "                                              LogisticRegression(max_iter=700))]),\n",
       "                   n_iter=30, n_jobs=-1,\n",
       "                   param_distributions={'log__C': [0.8, 0.8500000000000001,\n",
       "                                                   0.9000000000000001,\n",
       "                                                   0.9500000000000002],\n",
       "                                        'log__solver': ['lbfgs', 'sag',\n",
       "                                                        'saga']},\n",
       "                   return_train_score=True, scoring='accuracy', verbose=10)"
      ]
     },
     "execution_count": 11,
     "metadata": {},
     "output_type": "execute_result"
    }
   ],
   "source": [
    "params = {'log__solver': ['lbfgs', 'sag', 'saga'],\n",
    "         'log__C': list(np.arange(0.8, 1.0, 0.05))}\n",
    "\n",
    "random_grid_logistic = RandomizedSearchCV(log, params, n_iter = 30, scoring = 'accuracy',\n",
    "                                n_jobs = -1, verbose = 10, return_train_score = True)\n",
    "\n",
    "random_grid_logistic.fit(X_train, y_train)"
   ]
  },
  {
   "cell_type": "code",
   "execution_count": 17,
   "metadata": {
    "collapsed": true,
    "jupyter": {
     "outputs_hidden": true
    }
   },
   "outputs": [
    {
     "data": {
      "text/html": [
       "<div>\n",
       "<style scoped>\n",
       "    .dataframe tbody tr th:only-of-type {\n",
       "        vertical-align: middle;\n",
       "    }\n",
       "\n",
       "    .dataframe tbody tr th {\n",
       "        vertical-align: top;\n",
       "    }\n",
       "\n",
       "    .dataframe thead th {\n",
       "        text-align: right;\n",
       "    }\n",
       "</style>\n",
       "<table border=\"1\" class=\"dataframe\">\n",
       "  <thead>\n",
       "    <tr style=\"text-align: right;\">\n",
       "      <th></th>\n",
       "      <th>mean_fit_time</th>\n",
       "      <th>std_fit_time</th>\n",
       "      <th>mean_score_time</th>\n",
       "      <th>std_score_time</th>\n",
       "      <th>param_log__solver</th>\n",
       "      <th>param_log__C</th>\n",
       "      <th>params</th>\n",
       "      <th>split0_test_score</th>\n",
       "      <th>split1_test_score</th>\n",
       "      <th>split2_test_score</th>\n",
       "      <th>...</th>\n",
       "      <th>mean_test_score</th>\n",
       "      <th>std_test_score</th>\n",
       "      <th>rank_test_score</th>\n",
       "      <th>split0_train_score</th>\n",
       "      <th>split1_train_score</th>\n",
       "      <th>split2_train_score</th>\n",
       "      <th>split3_train_score</th>\n",
       "      <th>split4_train_score</th>\n",
       "      <th>mean_train_score</th>\n",
       "      <th>std_train_score</th>\n",
       "    </tr>\n",
       "  </thead>\n",
       "  <tbody>\n",
       "    <tr>\n",
       "      <th>0</th>\n",
       "      <td>184.982770</td>\n",
       "      <td>1.018998</td>\n",
       "      <td>0.616510</td>\n",
       "      <td>0.036707</td>\n",
       "      <td>lbfgs</td>\n",
       "      <td>0.8</td>\n",
       "      <td>{'log__solver': 'lbfgs', 'log__C': 0.8}</td>\n",
       "      <td>0.857917</td>\n",
       "      <td>0.851583</td>\n",
       "      <td>0.860500</td>\n",
       "      <td>...</td>\n",
       "      <td>0.857267</td>\n",
       "      <td>0.003096</td>\n",
       "      <td>4</td>\n",
       "      <td>0.870917</td>\n",
       "      <td>0.873708</td>\n",
       "      <td>0.871500</td>\n",
       "      <td>0.871125</td>\n",
       "      <td>0.870958</td>\n",
       "      <td>0.871642</td>\n",
       "      <td>0.001054</td>\n",
       "    </tr>\n",
       "    <tr>\n",
       "      <th>1</th>\n",
       "      <td>538.096092</td>\n",
       "      <td>43.794111</td>\n",
       "      <td>0.567458</td>\n",
       "      <td>0.027647</td>\n",
       "      <td>sag</td>\n",
       "      <td>0.8</td>\n",
       "      <td>{'log__solver': 'sag', 'log__C': 0.8}</td>\n",
       "      <td>0.857583</td>\n",
       "      <td>0.851167</td>\n",
       "      <td>0.859833</td>\n",
       "      <td>...</td>\n",
       "      <td>0.857000</td>\n",
       "      <td>0.003012</td>\n",
       "      <td>7</td>\n",
       "      <td>0.870604</td>\n",
       "      <td>0.874167</td>\n",
       "      <td>0.871625</td>\n",
       "      <td>0.871500</td>\n",
       "      <td>0.871083</td>\n",
       "      <td>0.871796</td>\n",
       "      <td>0.001238</td>\n",
       "    </tr>\n",
       "    <tr>\n",
       "      <th>2</th>\n",
       "      <td>1083.814636</td>\n",
       "      <td>92.596299</td>\n",
       "      <td>0.649312</td>\n",
       "      <td>0.060103</td>\n",
       "      <td>saga</td>\n",
       "      <td>0.8</td>\n",
       "      <td>{'log__solver': 'saga', 'log__C': 0.8}</td>\n",
       "      <td>0.855917</td>\n",
       "      <td>0.851667</td>\n",
       "      <td>0.860833</td>\n",
       "      <td>...</td>\n",
       "      <td>0.856833</td>\n",
       "      <td>0.003118</td>\n",
       "      <td>9</td>\n",
       "      <td>0.869875</td>\n",
       "      <td>0.873333</td>\n",
       "      <td>0.872125</td>\n",
       "      <td>0.870521</td>\n",
       "      <td>0.870833</td>\n",
       "      <td>0.871337</td>\n",
       "      <td>0.001238</td>\n",
       "    </tr>\n",
       "  </tbody>\n",
       "</table>\n",
       "<p>3 rows × 22 columns</p>\n",
       "</div>"
      ],
      "text/plain": [
       "   mean_fit_time  std_fit_time  mean_score_time  std_score_time  \\\n",
       "0     184.982770      1.018998         0.616510        0.036707   \n",
       "1     538.096092     43.794111         0.567458        0.027647   \n",
       "2    1083.814636     92.596299         0.649312        0.060103   \n",
       "\n",
       "  param_log__solver param_log__C                                   params  \\\n",
       "0             lbfgs          0.8  {'log__solver': 'lbfgs', 'log__C': 0.8}   \n",
       "1               sag          0.8    {'log__solver': 'sag', 'log__C': 0.8}   \n",
       "2              saga          0.8   {'log__solver': 'saga', 'log__C': 0.8}   \n",
       "\n",
       "   split0_test_score  split1_test_score  split2_test_score  ...  \\\n",
       "0           0.857917           0.851583           0.860500  ...   \n",
       "1           0.857583           0.851167           0.859833  ...   \n",
       "2           0.855917           0.851667           0.860833  ...   \n",
       "\n",
       "   mean_test_score  std_test_score  rank_test_score  split0_train_score  \\\n",
       "0         0.857267        0.003096                4            0.870917   \n",
       "1         0.857000        0.003012                7            0.870604   \n",
       "2         0.856833        0.003118                9            0.869875   \n",
       "\n",
       "   split1_train_score  split2_train_score  split3_train_score  \\\n",
       "0            0.873708            0.871500            0.871125   \n",
       "1            0.874167            0.871625            0.871500   \n",
       "2            0.873333            0.872125            0.870521   \n",
       "\n",
       "   split4_train_score  mean_train_score  std_train_score  \n",
       "0            0.870958          0.871642         0.001054  \n",
       "1            0.871083          0.871796         0.001238  \n",
       "2            0.870833          0.871337         0.001238  \n",
       "\n",
       "[3 rows x 22 columns]"
      ]
     },
     "execution_count": 17,
     "metadata": {},
     "output_type": "execute_result"
    }
   ],
   "source": [
    "pd.DataFrame(random_grid_logistic.cv_results_).head(3)"
   ]
  },
  {
   "cell_type": "code",
   "execution_count": 21,
   "metadata": {},
   "outputs": [
    {
     "data": {
      "text/plain": [
       "{'log__solver': 'lbfgs', 'log__C': 0.8500000000000001}"
      ]
     },
     "execution_count": 21,
     "metadata": {},
     "output_type": "execute_result"
    }
   ],
   "source": [
    "random_grid_logistic.best_params_"
   ]
  },
  {
   "cell_type": "code",
   "execution_count": 22,
   "metadata": {},
   "outputs": [
    {
     "name": "stdout",
     "output_type": "stream",
     "text": [
      "0.8446\n"
     ]
    }
   ],
   "source": [
    "log = Pipeline([('preparation', preparation()),\n",
    "                ('pca', PCA(n_components = 300)),\n",
    "               ('log', LogisticRegression(C = 0.85, max_iter = 1400))])\n",
    "log.fit(X_train, y_train)\n",
    "prediction = log.predict(X_test)\n",
    "print(accuracy_score(y_test, prediction))"
   ]
  },
  {
   "cell_type": "code",
   "execution_count": 115,
   "metadata": {},
   "outputs": [
    {
     "data": {
      "text/plain": [
       "6    434\n",
       "2    272\n",
       "4    246\n",
       "0    184\n",
       "3    127\n",
       "5     78\n",
       "8     61\n",
       "9     59\n",
       "7     54\n",
       "1     39\n",
       "Name: Y_test, dtype: int64"
      ]
     },
     "execution_count": 115,
     "metadata": {},
     "output_type": "execute_result"
    }
   ],
   "source": [
    "log_model[log_model['Y_test'] != log_model['Prediction']]['Y_test'].value_counts()"
   ]
  },
  {
   "cell_type": "code",
   "execution_count": 139,
   "metadata": {},
   "outputs": [
    {
     "name": "stderr",
     "output_type": "stream",
     "text": [
      "C:\\Users\\PC\\miniconda3\\envs\\cs_ftmle\\lib\\site-packages\\ipykernel_launcher.py:5: MatplotlibDeprecationWarning: Passing non-integers as three-element position specification is deprecated since 3.3 and will be removed two minor releases later.\n",
      "  \"\"\"\n"
     ]
    },
    {
     "data": {
      "image/png": "[encoded data removed]",
      "text/plain": [
       "<Figure size 1440x720 with 10 Axes>"
      ]
     },
     "metadata": {
      "needs_background": "light"
     },
     "output_type": "display_data"
    }
   ],
   "source": [
    "wrong_predictions = X_val[y_test != prediction ].reshape((-1, 28, 28))[20: 30]\n",
    "predictions = prediction[y_test != prediction]\n",
    "\n",
    "plot_images(wrong_predictions, predictions)"
   ]
  },
  {
   "cell_type": "markdown",
   "metadata": {},
   "source": [
    "<h3> Random Forest </h3>"
   ]
  },
  {
   "cell_type": "code",
   "execution_count": 43,
   "metadata": {},
   "outputs": [],
   "source": [
    "clf = Pipeline([('preparation', preparation()),\n",
    "                ('pca', PCA()),\n",
    "               ('forest', RandomForestClassifier(max_samples = 0.8))])"
   ]
  },
  {
   "cell_type": "code",
   "execution_count": 14,
   "metadata": {},
   "outputs": [],
   "source": [
    "params = {'forest__n_estimators': list(np.arange(200, 500, 50)),\n",
    "         'forest__max_depth': list(np.arange(10, 200, 10)),\n",
    "         'forest__min_samples_split': [2, 5, 10],\n",
    "         'forest__max_features': ['auto', 'sqrt', 'log2'],\n",
    "         'forest__min_samples_leaf': [1, 2, 4, 6],\n",
    "         'pca__n_components': list(np.arange(300, 400, 10))}\n",
    "\n",
    "forest = RandomizedSearchCV(clf, params, n_iter = 30, random_state = 1, n_jobs = -1, verbose = 2)"
   ]
  },
  {
   "cell_type": "code",
   "execution_count": 15,
   "metadata": {},
   "outputs": [
    {
     "name": "stdout",
     "output_type": "stream",
     "text": [
      "Fitting 5 folds for each of 30 candidates, totalling 150 fits\n"
     ]
    },
    {
     "name": "stderr",
     "output_type": "stream",
     "text": [
      "[Parallel(n_jobs=-1)]: Using backend LokyBackend with 12 concurrent workers.\n",
      "[Parallel(n_jobs=-1)]: Done  17 tasks      | elapsed: 19.7min\n",
      "[Parallel(n_jobs=-1)]: Done 150 out of 150 | elapsed: 112.3min finished\n"
     ]
    },
    {
     "data": {
      "text/plain": [
       "RandomizedSearchCV(estimator=Pipeline(steps=[('preparation', preparation()),\n",
       "                                             ('pca', PCA()),\n",
       "                                             ('forest',\n",
       "                                              RandomForestClassifier(max_samples=0.8))]),\n",
       "                   n_iter=30, n_jobs=-1,\n",
       "                   param_distributions={'forest__max_depth': [10, 20, 30, 40,\n",
       "                                                              50, 60, 70, 80,\n",
       "                                                              90, 100, 110, 120,\n",
       "                                                              130, 140, 150,\n",
       "                                                              160, 170, 180,\n",
       "                                                              190],\n",
       "                                        'forest__max_features': ['auto', 'sqrt',\n",
       "                                                                 'log2'],\n",
       "                                        'forest__min_samples_leaf': [1, 2, 4,\n",
       "                                                                     6],\n",
       "                                        'forest__min_samples_split': [2, 5, 10],\n",
       "                                        'forest__n_estimators': [200, 250, 300,\n",
       "                                                                 350, 400,\n",
       "                                                                 450],\n",
       "                                        'pca__n_components': [300, 310, 320,\n",
       "                                                              330, 340, 350,\n",
       "                                                              360, 370, 380,\n",
       "                                                              390]},\n",
       "                   random_state=1, verbose=2)"
      ]
     },
     "execution_count": 15,
     "metadata": {},
     "output_type": "execute_result"
    }
   ],
   "source": [
    "forest.fit(X_train, y_train)"
   ]
  },
  {
   "cell_type": "code",
   "execution_count": 38,
   "metadata": {},
   "outputs": [],
   "source": [
    "# random_forest_track = pd.DataFrame(forest.cv_results_).sort_values(by = 'mean_test_score', ascending = False)\n",
    "# random_forest_track.to_csv('Forest Params Track.csv', index = False)"
   ]
  },
  {
   "cell_type": "code",
   "execution_count": 49,
   "metadata": {},
   "outputs": [
    {
     "data": {
      "text/plain": [
       "{'pca__n_components': 310,\n",
       " 'forest__n_estimators': 450,\n",
       " 'forest__min_samples_split': 5,\n",
       " 'forest__min_samples_leaf': 1,\n",
       " 'forest__max_features': 'auto',\n",
       " 'forest__max_depth': 160}"
      ]
     },
     "execution_count": 49,
     "metadata": {},
     "output_type": "execute_result"
    }
   ],
   "source": [
    "forest.best_params_"
   ]
  },
  {
   "cell_type": "code",
   "execution_count": 48,
   "metadata": {},
   "outputs": [
    {
     "name": "stdout",
     "output_type": "stream",
     "text": [
      "0.8553\n"
     ]
    }
   ],
   "source": [
    "random_forest = forest.best_estimator_\n",
    "random_forest.fit(X_train, y_train)\n",
    "prediction = random_forest.predict(X_test)\n",
    "print(accuracy_score(y_test, prediction))"
   ]
  },
  {
   "cell_type": "markdown",
   "metadata": {},
   "source": [
    "<p>Even with optimizations, random forest only increased 0.1 in accuracy. We will now focus on Light Gradient Boosting Machine.</p>"
   ]
  }
 ],
 "metadata": {
  "kernelspec": {
   "display_name": "Python 3.7.8 64-bit ('cs_ftmle': conda)",
   "language": "python",
   "name": "python37864bitcsftmleconda8f70978e03294adb93c22517d5f60ab6"
  },
  "language_info": {
   "codemirror_mode": {
    "name": "ipython",
    "version": 3
   },
   "file_extension": ".py",
   "mimetype": "text/x-python",
   "name": "python",
   "nbconvert_exporter": "python",
   "pygments_lexer": "ipython3",
   "version": "3.7.8"
  }
 },
 "nbformat": 4,
 "nbformat_minor": 4
}
